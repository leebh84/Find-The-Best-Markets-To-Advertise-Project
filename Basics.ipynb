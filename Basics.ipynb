{
 "cells": [
  {
   "cell_type": "markdown",
   "metadata": {},
   "source": [
    "# Best Markets For Tech Education Advertisments"
   ]
  },
  {
   "cell_type": "markdown",
   "metadata": {},
   "source": [
    "This project is about finding the optimal market or country to spend the majority of a e-learning company's advertisment budget based on the density of learning in a respective country as well as the amount of money on average each student spends on his or her education. \n",
    "\n",
    "We will achieve this goal, using pandas and visualizations to back up our reasoning on which country is the best to adverise in."
   ]
  },
  {
   "cell_type": "markdown",
   "metadata": {},
   "source": [
    "# Data Exploratory"
   ]
  },
  {
   "cell_type": "code",
   "execution_count": 1,
   "metadata": {
    "collapsed": true
   },
   "outputs": [],
   "source": [
    "import pandas as pd\n",
    "import matplotlib.pyplot as plt\n",
    "import seaborn as sns"
   ]
  },
  {
   "cell_type": "code",
   "execution_count": 2,
   "metadata": {
    "collapsed": false
   },
   "outputs": [
    {
     "name": "stderr",
     "output_type": "stream",
     "text": [
      "/dataquest/system/env/python3/lib/python3.4/site-packages/IPython/core/interactiveshell.py:2723: DtypeWarning:\n",
      "\n",
      "Columns (17,62) have mixed types. Specify dtype option on import or set low_memory=False.\n",
      "\n"
     ]
    }
   ],
   "source": [
    "df = pd.read_csv('2017-fCC-New-Coders-Survey-Data.csv')"
   ]
  },
  {
   "cell_type": "code",
   "execution_count": 3,
   "metadata": {
    "collapsed": false
   },
   "outputs": [
    {
     "name": "stdout",
     "output_type": "stream",
     "text": [
      "(18175, 136)\n",
      "<class 'pandas.core.frame.DataFrame'>\n",
      "RangeIndex: 18175 entries, 0 to 18174\n",
      "Columns: 136 entries, Age to YouTubeTheNewBoston\n",
      "dtypes: float64(105), object(31)\n",
      "memory usage: 18.9+ MB\n",
      "None\n",
      "    Age  AttendedBootcamp  BootcampFinish  BootcampLoanYesNo BootcampName  \\\n",
      "0  27.0               0.0             NaN                NaN          NaN   \n",
      "1  34.0               0.0             NaN                NaN          NaN   \n",
      "2  21.0               0.0             NaN                NaN          NaN   \n",
      "3  26.0               0.0             NaN                NaN          NaN   \n",
      "4  20.0               0.0             NaN                NaN          NaN   \n",
      "\n",
      "   BootcampRecommend  ChildrenNumber                 CityPopulation  \\\n",
      "0                NaN             NaN            more than 1 million   \n",
      "1                NaN             NaN              less than 100,000   \n",
      "2                NaN             NaN            more than 1 million   \n",
      "3                NaN             NaN  between 100,000 and 1 million   \n",
      "4                NaN             NaN  between 100,000 and 1 million   \n",
      "\n",
      "   CodeEventConferences  CodeEventDjangoGirls         ...           \\\n",
      "0                   NaN                   NaN         ...            \n",
      "1                   NaN                   NaN         ...            \n",
      "2                   NaN                   NaN         ...            \n",
      "3                   NaN                   NaN         ...            \n",
      "4                   NaN                   NaN         ...            \n",
      "\n",
      "   YouTubeFCC  YouTubeFunFunFunction  YouTubeGoogleDev  YouTubeLearnCode  \\\n",
      "0         NaN                    NaN               NaN               NaN   \n",
      "1         1.0                    NaN               NaN               NaN   \n",
      "2         NaN                    NaN               NaN               1.0   \n",
      "3         1.0                    1.0               NaN               NaN   \n",
      "4         NaN                    NaN               NaN               NaN   \n",
      "\n",
      "   YouTubeLevelUpTuts  YouTubeMIT  YouTubeMozillaHacks YouTubeOther  \\\n",
      "0                 NaN         NaN                  NaN          NaN   \n",
      "1                 NaN         NaN                  NaN          NaN   \n",
      "2                 1.0         NaN                  NaN          NaN   \n",
      "3                 1.0         NaN                  NaN          NaN   \n",
      "4                 NaN         NaN                  NaN          NaN   \n",
      "\n",
      "   YouTubeSimplilearn  YouTubeTheNewBoston  \n",
      "0                 NaN                  NaN  \n",
      "1                 NaN                  NaN  \n",
      "2                 NaN                  NaN  \n",
      "3                 NaN                  NaN  \n",
      "4                 NaN                  NaN  \n",
      "\n",
      "[5 rows x 136 columns]\n",
      "                Age  AttendedBootcamp  BootcampFinish  BootcampLoanYesNo  \\\n",
      "count  15367.000000      17709.000000     1069.000000        1079.000000   \n",
      "mean      27.691872          0.062002        0.699719           0.305839   \n",
      "std        8.559239          0.241167        0.458594           0.460975   \n",
      "min        0.000000          0.000000        0.000000           0.000000   \n",
      "25%       22.000000          0.000000        0.000000           0.000000   \n",
      "50%       26.000000          0.000000        1.000000           0.000000   \n",
      "75%       32.000000          0.000000        1.000000           1.000000   \n",
      "max       90.000000          1.000000        1.000000           1.000000   \n",
      "\n",
      "       BootcampRecommend  ChildrenNumber  CodeEventConferences  \\\n",
      "count        1073.000000     2314.000000                1609.0   \n",
      "mean            0.818267        1.832325                   1.0   \n",
      "std             0.385805        0.972813                   0.0   \n",
      "min             0.000000        1.000000                   1.0   \n",
      "25%             1.000000        1.000000                   1.0   \n",
      "50%             1.000000        2.000000                   1.0   \n",
      "75%             1.000000        2.000000                   1.0   \n",
      "max             1.000000        9.000000                   1.0   \n",
      "\n",
      "       CodeEventDjangoGirls  CodeEventFCC  CodeEventGameJam  \\\n",
      "count                 165.0        1708.0             290.0   \n",
      "mean                    1.0           1.0               1.0   \n",
      "std                     0.0           0.0               0.0   \n",
      "min                     1.0           1.0               1.0   \n",
      "25%                     1.0           1.0               1.0   \n",
      "50%                     1.0           1.0               1.0   \n",
      "75%                     1.0           1.0               1.0   \n",
      "max                     1.0           1.0               1.0   \n",
      "\n",
      "              ...           YouTubeEngineeredTruth  YouTubeFCC  \\\n",
      "count         ...                            993.0      6036.0   \n",
      "mean          ...                              1.0         1.0   \n",
      "std           ...                              0.0         0.0   \n",
      "min           ...                              1.0         1.0   \n",
      "25%           ...                              1.0         1.0   \n",
      "50%           ...                              1.0         1.0   \n",
      "75%           ...                              1.0         1.0   \n",
      "max           ...                              1.0         1.0   \n",
      "\n",
      "       YouTubeFunFunFunction  YouTubeGoogleDev  YouTubeLearnCode  \\\n",
      "count                 1261.0            3539.0            2662.0   \n",
      "mean                     1.0               1.0               1.0   \n",
      "std                      0.0               0.0               0.0   \n",
      "min                      1.0               1.0               1.0   \n",
      "25%                      1.0               1.0               1.0   \n",
      "50%                      1.0               1.0               1.0   \n",
      "75%                      1.0               1.0               1.0   \n",
      "max                      1.0               1.0               1.0   \n",
      "\n",
      "       YouTubeLevelUpTuts  YouTubeMIT  YouTubeMozillaHacks  \\\n",
      "count              1396.0      3327.0                622.0   \n",
      "mean                  1.0         1.0                  1.0   \n",
      "std                   0.0         0.0                  0.0   \n",
      "min                   1.0         1.0                  1.0   \n",
      "25%                   1.0         1.0                  1.0   \n",
      "50%                   1.0         1.0                  1.0   \n",
      "75%                   1.0         1.0                  1.0   \n",
      "max                   1.0         1.0                  1.0   \n",
      "\n",
      "       YouTubeSimplilearn  YouTubeTheNewBoston  \n",
      "count               201.0               2960.0  \n",
      "mean                  1.0                  1.0  \n",
      "std                   0.0                  0.0  \n",
      "min                   1.0                  1.0  \n",
      "25%                   1.0                  1.0  \n",
      "50%                   1.0                  1.0  \n",
      "75%                   1.0                  1.0  \n",
      "max                   1.0                  1.0  \n",
      "\n",
      "[8 rows x 105 columns]\n"
     ]
    }
   ],
   "source": [
    "print(df.shape)\n",
    "print(df.info())\n",
    "print(df.head(5))\n",
    "print(df.describe())\n",
    "\n"
   ]
  },
  {
   "cell_type": "code",
   "execution_count": 4,
   "metadata": {
    "collapsed": false
   },
   "outputs": [
    {
     "name": "stdout",
     "output_type": "stream",
     "text": [
      "Index(['Age', 'AttendedBootcamp', 'BootcampFinish', 'BootcampLoanYesNo',\n",
      "       'BootcampName', 'BootcampRecommend', 'ChildrenNumber', 'CityPopulation',\n",
      "       'CodeEventConferences', 'CodeEventDjangoGirls',\n",
      "       ...\n",
      "       'YouTubeFCC', 'YouTubeFunFunFunction', 'YouTubeGoogleDev',\n",
      "       'YouTubeLearnCode', 'YouTubeLevelUpTuts', 'YouTubeMIT',\n",
      "       'YouTubeMozillaHacks', 'YouTubeOther', 'YouTubeSimplilearn',\n",
      "       'YouTubeTheNewBoston'],\n",
      "      dtype='object', length=136)\n"
     ]
    }
   ],
   "source": [
    "print(df.columns)"
   ]
  },
  {
   "cell_type": "markdown",
   "metadata": {},
   "source": [
    "We are exploring a ready-made data set instead of organizing a survey because of the high cost of conducting a large scale survey. The large financial resources needed to conduct a good survey is cost prohibitive and therefore it is a good practice to explore more cost friendly methods. \n",
    "\n",
    "In this project we will be exploring data from FreeCodeCamp which offers free e-learning through a web platform and because they run a very well known Medium publication their survey consists of many new coders with varying interests who are interested in learning more in tech fields involving coding.\n",
    "\n",
    "The survey data can by downloaded from Github https://github.com/freeCodeCamp/2017-new-coder-survey."
   ]
  },
  {
   "cell_type": "markdown",
   "metadata": {},
   "source": [
    "Before proceeding with answering the important questions, such as which country has the most students and which country has the highest gross in education spending, we need to ensure that the sample from the survey is representative of our population of interest."
   ]
  },
  {
   "cell_type": "code",
   "execution_count": 5,
   "metadata": {
    "collapsed": false
   },
   "outputs": [
    {
     "data": {
      "text/plain": [
       "Full-Stack Web Developer                                                                                                                                                                              11.770595\n",
       "  Front-End Web Developer                                                                                                                                                                              6.435927\n",
       "  Data Scientist                                                                                                                                                                                       2.173913\n",
       "Back-End Web Developer                                                                                                                                                                                 2.030892\n",
       "  Mobile Developer                                                                                                                                                                                     1.673341\n",
       "Game Developer                                                                                                                                                                                         1.630435\n",
       "Information Security                                                                                                                                                                                   1.315789\n",
       "Full-Stack Web Developer,   Front-End Web Developer                                                                                                                                                    0.915332\n",
       "  Front-End Web Developer, Full-Stack Web Developer                                                                                                                                                    0.800915\n",
       "  Product Manager                                                                                                                                                                                      0.786613\n",
       "Data Engineer                                                                                                                                                                                          0.758009\n",
       "  User Experience Designer                                                                                                                                                                             0.743707\n",
       "  User Experience Designer,   Front-End Web Developer                                                                                                                                                  0.614989\n",
       "  Front-End Web Developer, Back-End Web Developer, Full-Stack Web Developer                                                                                                                            0.557780\n",
       "  DevOps / SysAdmin                                                                                                                                                                                    0.514874\n",
       "Back-End Web Developer,   Front-End Web Developer, Full-Stack Web Developer                                                                                                                            0.514874\n",
       "Back-End Web Developer, Full-Stack Web Developer,   Front-End Web Developer                                                                                                                            0.514874\n",
       "Full-Stack Web Developer,   Front-End Web Developer, Back-End Web Developer                                                                                                                            0.443364\n",
       "  Front-End Web Developer, Full-Stack Web Developer, Back-End Web Developer                                                                                                                            0.429062\n",
       "Full-Stack Web Developer,   Mobile Developer                                                                                                                                                           0.414760\n",
       "  Front-End Web Developer,   User Experience Designer                                                                                                                                                  0.414760\n",
       "Back-End Web Developer, Full-Stack Web Developer                                                                                                                                                       0.386156\n",
       "Full-Stack Web Developer, Back-End Web Developer                                                                                                                                                       0.371854\n",
       "Back-End Web Developer,   Front-End Web Developer                                                                                                                                                      0.286041\n",
       "Data Engineer,   Data Scientist                                                                                                                                                                        0.271739\n",
       "Full-Stack Web Developer, Back-End Web Developer,   Front-End Web Developer                                                                                                                            0.271739\n",
       "  Front-End Web Developer,   Mobile Developer                                                                                                                                                          0.257437\n",
       "Full-Stack Web Developer,   Data Scientist                                                                                                                                                             0.243135\n",
       "  Data Scientist, Data Engineer                                                                                                                                                                        0.228833\n",
       "  Mobile Developer, Game Developer                                                                                                                                                                     0.228833\n",
       "                                                                                                                                                                                                        ...    \n",
       "  Mobile Developer, Data Engineer,   Product Manager,   Quality Assurance Engineer, Full-Stack Web Developer,   Front-End Web Developer                                                                0.014302\n",
       "  Data Scientist, Full-Stack Web Developer,   Front-End Web Developer, Information Security                                                                                                            0.014302\n",
       "Data Engineer,   Mobile Developer, Back-End Web Developer, Full-Stack Web Developer, Game Developer,   Front-End Web Developer                                                                         0.014302\n",
       "  Quality Assurance Engineer,   Product Manager, Information Security,   DevOps / SysAdmin, Embedded Developer                                                                                         0.014302\n",
       "Web Designer                                                                                                                                                                                           0.014302\n",
       "  User Experience Designer, Full-Stack Web Developer,   Front-End Web Developer,   Product Manager                                                                                                     0.014302\n",
       "Information Security,   Front-End Web Developer, Back-End Web Developer, Game Developer, Full-Stack Web Developer                                                                                      0.014302\n",
       "  Front-End Web Developer,   User Experience Designer, Data Engineer, Back-End Web Developer,   Mobile Developer, Full-Stack Web Developer                                                             0.014302\n",
       "  Data Scientist, Full-Stack Web Developer,   User Experience Designer, Data Engineer,   Front-End Web Developer                                                                                       0.014302\n",
       "Full-Stack Web Developer,   Data Scientist,   Mobile Developer, Game Developer, Information Security, Back-End Web Developer,   Front-End Web Developer, Data Engineer                                 0.014302\n",
       "  Product Manager, Full-Stack Web Developer,   Front-End Web Developer,   User Experience Designer                                                                                                     0.014302\n",
       "  User Experience Designer, Back-End Web Developer, Full-Stack Web Developer,   Front-End Web Developer,   Mobile Developer                                                                            0.014302\n",
       "Back-End Web Developer,   Mobile Developer,   Product Manager,   Front-End Web Developer,   User Experience Designer                                                                                   0.014302\n",
       "Full-Stack Web Developer, Data Engineer,   Front-End Web Developer,   Mobile Developer, Back-End Web Developer,   User Experience Designer,   Product Manager                                          0.014302\n",
       "Back-End Web Developer,   User Experience Designer,   Data Scientist,   Mobile Developer, Full-Stack Web Developer,   Front-End Web Developer                                                          0.014302\n",
       "Information Security, network admin                                                                                                                                                                    0.014302\n",
       "Back-End Web Developer, Game Developer,   User Experience Designer, Information Security,   Front-End Web Developer, Data Engineer,   Data Scientist,   Mobile Developer, Full-Stack Web Developer     0.014302\n",
       "  Mobile Developer, Full-Stack Web Developer,   DevOps / SysAdmin,   Front-End Web Developer, Back-End Web Developer,   User Experience Designer, Data Engineer                                        0.014302\n",
       "Back-End Web Developer,   Product Manager,   Front-End Web Developer, Information Security                                                                                                             0.014302\n",
       "Full-Stack Web Developer,   Front-End Web Developer,   Data Scientist, Data Engineer, Back-End Web Developer                                                                                           0.014302\n",
       "Full-Stack Web Developer, Back-End Web Developer,   Front-End Web Developer,   User Experience Designer,   Mobile Developer,   Quality Assurance Engineer,   Data Scientist                            0.014302\n",
       "  User Experience Designer,   Mobile Developer,   Product Manager,   Front-End Web Developer,   Data Scientist, Information Security,   Quality Assurance Engineer                                     0.014302\n",
       "  Product Manager,   User Experience Designer,   Data Scientist, Back-End Web Developer,   Front-End Web Developer, Full-Stack Web Developer                                                           0.014302\n",
       "Back-End Web Developer, Information Security, Data Engineer, Game Developer,   Front-End Web Developer, Full-Stack Web Developer,   Mobile Developer,   DevOps / SysAdmin                              0.014302\n",
       "Data Engineer, Full-Stack Web Developer, Back-End Web Developer, Information Security,   Quality Assurance Engineer                                                                                    0.014302\n",
       "Game Developer,   Quality Assurance Engineer,   User Experience Designer                                                                                                                               0.014302\n",
       "  Data Scientist, Data Engineer, Back-End Web Developer,   Mobile Developer, Full-Stack Web Developer,   Product Manager                                                                               0.014302\n",
       "Full-Stack Web Developer,   User Experience Designer,   Product Manager,   Quality Assurance Engineer,   Mobile Developer, Data Engineer,   Front-End Web Developer                                    0.014302\n",
       "  Data Scientist, Data Engineer,   Product Manager, Back-End Web Developer                                                                                                                             0.014302\n",
       "Full-Stack Web Developer,   Quality Assurance Engineer, Back-End Web Developer                                                                                                                         0.014302\n",
       "Name: JobRoleInterest, Length: 3213, dtype: float64"
      ]
     },
     "execution_count": 5,
     "metadata": {},
     "output_type": "execute_result"
    }
   ],
   "source": [
    "df['JobRoleInterest'].value_counts(normalize=True)*100"
   ]
  },
  {
   "cell_type": "markdown",
   "metadata": {},
   "source": [
    "Based on the data:\n",
    "- Most of the sample are interested in Full-Stack Web Developers.\n",
    "- A majority of sample are interested in more than one field. \n",
    "- A very few are interested in mobile development."
   ]
  },
  {
   "cell_type": "markdown",
   "metadata": {},
   "source": [
    "Since there are alot of people interested in multiple fields it would be interesting to know more precisely how much of our sample are focused on one field as opposed to a variety.\n",
    "Consequently, in the next code block, we'll:\n",
    "\n",
    "    -Split each string in the JobRoleInterest column to find the number of options for each participant.\n",
    "    -We'll first drop the null values because we can't split Nan values.\n",
    "    -Generate a frequency table for the variable describing the number of options."
   ]
  },
  {
   "cell_type": "code",
   "execution_count": 6,
   "metadata": {
    "collapsed": false
   },
   "outputs": [
    {
     "data": {
      "text/plain": [
       "1     31.650458\n",
       "3     15.889588\n",
       "4     15.217391\n",
       "5     12.042334\n",
       "2     10.883867\n",
       "6      6.721968\n",
       "7      3.861556\n",
       "8      1.759153\n",
       "9      0.986842\n",
       "10     0.471968\n",
       "12     0.300343\n",
       "11     0.185927\n",
       "13     0.028604\n",
       "Name: JobRoleInterest, dtype: float64"
      ]
     },
     "execution_count": 6,
     "metadata": {},
     "output_type": "execute_result"
    }
   ],
   "source": [
    "#split each string from the series with no null values\n",
    "no_nulls = df['JobRoleInterest'].dropna()\n",
    "split = no_nulls.str.split(',')\n",
    "\n",
    "# Frequency table for the var describing the number of options\n",
    "n_options = split.apply(lambda x:len(x))\n",
    "n_options.value_counts(normalize=True)*100"
   ]
  },
  {
   "cell_type": "markdown",
   "metadata": {},
   "source": [
    "Based on the frequency table we can observe that 31.65% of the sampled survey are primarily focused on just one role whilst the remaining sample are interested in 3 or more various roles. This may be a good sign for a education based company because there is a higher chance that after a student completes their education pathway subscription in a specific field they will re-enlist or resubscribe to learn more in a different field. \n",
    "\n",
    "The focus of our courses is on web and mobile development, so let's find out how many respondents chose at least one of these two options."
   ]
  },
  {
   "cell_type": "code",
   "execution_count": 7,
   "metadata": {
    "collapsed": false
   },
   "outputs": [
    {
     "name": "stdout",
     "output_type": "stream",
     "text": [
      "True     86.241419\n",
      "False    13.758581\n",
      "Name: JobRoleInterest, dtype: float64\n"
     ]
    }
   ],
   "source": [
    "web_or_mobile = no_nulls.str.contains('Mobile Developer|Web Developer')\n",
    "web_or_mobile_counts = web_or_mobile.value_counts(normalize=True)*100\n",
    "print(web_or_mobile_counts)"
   ]
  },
  {
   "cell_type": "code",
   "execution_count": 8,
   "metadata": {
    "collapsed": false
   },
   "outputs": [
    {
     "data": {
      "image/png": "[encoded data removed]",
      "text/plain": [
       "<matplotlib.figure.Figure at 0x7f0424b9e128>"
      ]
     },
     "metadata": {},
     "output_type": "display_data"
    }
   ],
   "source": [
    "#generate a graph to show the percentage of the sample interested in web or mobile development\n",
    "%matplotlib inline\n",
    "plt.style.use('fivethirtyeight')\n",
    "\n",
    "web_or_mobile_counts.plot.bar()\n",
    "plt.title('Most Participants are Interested in Web or Mobile Development',\n",
    "          y = 1.08) # y pads the title upward\n",
    "plt.ylabel('Percentage', fontsize = 12)\n",
    "plt.xticks([0,1],['Web or mobile\\ndevelopment', 'Other subject'],\n",
    "           rotation = 0) # the initial xtick labels were True and False\n",
    "plt.ylim([0,100])\n",
    "plt.show()"
   ]
  },
  {
   "cell_type": "markdown",
   "metadata": {},
   "source": [
    "As you can see there is a good amount of the sample that have interests in either web development or mobile development or both. Which is a strong indicator that the sample is infact representative of a population we want to base our research on."
   ]
  },
  {
   "cell_type": "markdown",
   "metadata": {},
   "source": [
    "Now that we have a representative population we need to figure out what are the best markets to invest money in for advertising our courses. We'd like to know:\n",
    "\n",
    "    -Where are these new coders located.\n",
    "    -What are the locations with the greatest number of new coders.\n",
    "    -How much money new coders are willing to spend on learning.\n"
   ]
  },
  {
   "cell_type": "markdown",
   "metadata": {},
   "source": [
    "# Where Are Our Learners?"
   ]
  },
  {
   "cell_type": "code",
   "execution_count": 9,
   "metadata": {
    "collapsed": false
   },
   "outputs": [
    {
     "name": "stdout",
     "output_type": "stream",
     "text": [
      "                               Country Frequencies\n",
      "United States of America                 45.700497\n",
      "India                                     7.721556\n",
      "United Kingdom                            4.606610\n",
      "Canada                                    3.802281\n",
      "Poland                                    1.915765\n",
      "Brazil                                    1.886517\n",
      "Germany                                   1.828020\n",
      "Australia                                 1.637906\n",
      "Russia                                    1.491664\n",
      "Ukraine                                   1.301550\n",
      "Nigeria                                   1.228429\n",
      "Spain                                     1.126060\n",
      "France                                    1.096812\n",
      "Romania                                   1.038315\n",
      "Netherlands (Holland, Europe)             0.950570\n",
      "Italy                                     0.906698\n",
      "Philippines                               0.760456\n",
      "Serbia                                    0.760456\n",
      "Greece                                    0.672711\n",
      "Ireland                                   0.628839\n",
      "South Africa                              0.570342\n",
      "Mexico                                    0.541094\n",
      "Turkey                                    0.526470\n",
      "Hungary                                   0.497221\n",
      "Singapore                                 0.497221\n",
      "New Zealand                               0.482597\n",
      "Argentina                                 0.467973\n",
      "Croatia                                   0.467973\n",
      "Norway                                    0.453349\n",
      "Pakistan                                  0.453349\n",
      "...                                            ...\n",
      "Turkmenistan                              0.014624\n",
      "Cameroon                                  0.014624\n",
      "Nicaragua                                 0.014624\n",
      "Rwanda                                    0.014624\n",
      "Gibraltar                                 0.014624\n",
      "Channel Islands                           0.014624\n",
      "Botswana                                  0.014624\n",
      "Sudan                                     0.014624\n",
      "Gambia                                    0.014624\n",
      "Bolivia                                   0.014624\n",
      "Panama                                    0.014624\n",
      "Liberia                                   0.014624\n",
      "Myanmar                                   0.014624\n",
      "Cayman Islands                            0.014624\n",
      "Anguilla                                  0.014624\n",
      "Cuba                                      0.014624\n",
      "Guatemala                                 0.014624\n",
      "Jordan                                    0.014624\n",
      "Kyrgyzstan                                0.014624\n",
      "Aruba                                     0.014624\n",
      "Nambia                                    0.014624\n",
      "Angola                                    0.014624\n",
      "Qatar                                     0.014624\n",
      "Yemen                                     0.014624\n",
      "Papua New Guinea                          0.014624\n",
      "Trinidad & Tobago                         0.014624\n",
      "Samoa                                     0.014624\n",
      "Vanuatu                                   0.014624\n",
      "Guadeloupe                                0.014624\n",
      "Mozambique                                0.014624\n",
      "\n",
      "[137 rows x 1 columns]\n"
     ]
    }
   ],
   "source": [
    "# Isolate the participants that answered what role they'd be interested in\n",
    "valid_party = df[df['JobRoleInterest'].notnull()].copy()\n",
    "\n",
    "country_freq = valid_party['CountryLive'].dropna().value_counts(normalize=True)*100\n",
    "print(pd.DataFrame({\"Country Frequencies\":country_freq}))"
   ]
  },
  {
   "cell_type": "markdown",
   "metadata": {},
   "source": [
    "From the results we see that United States and India represent nearly half of the sample of those who are interested in learning coding. Given that the program is geared towards primary English learners it would also be intuitive to include the United Kingdom and Canada into the list of target countries."
   ]
  },
  {
   "cell_type": "markdown",
   "metadata": {},
   "source": [
    "# Who Spends the Most?\n"
   ]
  },
  {
   "cell_type": "markdown",
   "metadata": {},
   "source": [
    "From the list of the target countries, we will now extrapolate information to answer the question of which country has the highest money spent per month on education. To do this we will look at the MoneyForLearning column, whcih describes how much the participants have spent from the time they started learning how to code to the point that they have completed the survey.\n",
    "\n",
    "We'll narrow down our analysis to only four countries: the US, India, the United Kingdom, and Canada. We do this for two reasons:\n",
    "\n",
    "These are the countries having the highest frequency in the frequency table above, which means we have a decent amount of data for each.\n",
    "Our courses are written in English, and English is an official language in all these four countries. The more people know English, the better our chances to target the right people with our ads.\n",
    "Let's start with creating a new column that describes the amount of money a student has spent per month so far. To do that, we'll need to divide the MoneyForLearning column to the MonthsProgramming column. The problem is that some students answered that they have been learning to code for 0 months (it might be that they have just started). To avoid dividing by 0, we'll replace 0 with 1 in the MonthsProgramming column."
   ]
  },
  {
   "cell_type": "code",
   "execution_count": 10,
   "metadata": {
    "collapsed": false
   },
   "outputs": [
    {
     "data": {
      "text/plain": [
       "675"
      ]
     },
     "execution_count": 10,
     "metadata": {},
     "output_type": "execute_result"
    }
   ],
   "source": [
    "# Replace 0s with 1s to avoid division by 0\n",
    "valid_party['MonthsProgramming'].replace(0,1, inplace=True)\n",
    "\n",
    "# New column for the amount of money each student spends each month\n",
    "valid_party['edu_money_per_month'] = valid_party['MoneyForLearning'] / valid_party['MonthsProgramming']\n",
    "valid_party['edu_money_per_month'].isnull().sum()\n",
    "\n"
   ]
  },
  {
   "cell_type": "markdown",
   "metadata": {},
   "source": [
    "Let's keep only the rows that don't have null values for the Country_Live and education_budget_per_month columns.\n"
   ]
  },
  {
   "cell_type": "code",
   "execution_count": 11,
   "metadata": {
    "collapsed": false
   },
   "outputs": [
    {
     "name": "stdout",
     "output_type": "stream",
     "text": [
      "United States of America    2933\n",
      "India                        463\n",
      "United Kingdom               279\n",
      "Canada                       240\n",
      "Poland                       122\n",
      "Name: CountryLive, dtype: int64\n"
     ]
    }
   ],
   "source": [
    "#Remove the rows with null values in money_per_month\n",
    "valid_party = valid_party[valid_party['edu_money_per_month'].notnull()]\n",
    "\n",
    "# Remove the rows with null values in 'CountryLive'\n",
    "valid_party = valid_party[valid_party['CountryLive'].notnull()]\n",
    "\n",
    "# Frequency table to check if we still have enough data\n",
    "print(valid_party['CountryLive'].value_counts().head())\n"
   ]
  },
  {
   "cell_type": "code",
   "execution_count": 12,
   "metadata": {
    "collapsed": false
   },
   "outputs": [
    {
     "data": {
      "text/plain": [
       "CountryLive\n",
       "United States of America    227.997996\n",
       "India                       135.100982\n",
       "United Kingdom               45.534443\n",
       "Canada                      113.510961\n",
       "Name: edu_money_per_month, dtype: float64"
      ]
     },
     "execution_count": 12,
     "metadata": {},
     "output_type": "execute_result"
    }
   ],
   "source": [
    "#Mean sum of money spent by students each month\n",
    "countries_mean = valid_party.groupby('CountryLive').mean()\n",
    "countries_mean['edu_money_per_month'][['United States of America',\n",
    "                            'India', 'United Kingdom',\n",
    "                            'Canada']]"
   ]
  },
  {
   "cell_type": "markdown",
   "metadata": {},
   "source": [
    "The results show that those who completed to survey, most of the money spent on education came from the United States, followed second by India, then Canada, followed last by the United Kingdom. \n",
    "\n",
    "This might be indicative of India growing into a technological powerhouse and a key industry leader in the future for tech growth and employment. \n",
    "\n",
    "To ensure that our data is not being effected by outliers, it would be wise to observe and remove any outliers so that our observations are more accurate."
   ]
  },
  {
   "cell_type": "markdown",
   "metadata": {
    "collapsed": true
   },
   "source": [
    "# Dealing with Extreme Outliers"
   ]
  },
  {
   "cell_type": "code",
   "execution_count": 13,
   "metadata": {
    "collapsed": true
   },
   "outputs": [],
   "source": [
    "# Isolate only the countries of interest\n",
    "four_countries = valid_party[valid_party['CountryLive'].str.contains('United States of America|India|United Kingdom|Canada')]"
   ]
  },
  {
   "cell_type": "code",
   "execution_count": 14,
   "metadata": {
    "collapsed": false
   },
   "outputs": [
    {
     "name": "stderr",
     "output_type": "stream",
     "text": [
      "/dataquest/system/env/python3/lib/python3.4/site-packages/seaborn/categorical.py:454: FutureWarning:\n",
      "\n",
      "remove_na is deprecated and is a private function. Do not use.\n",
      "\n"
     ]
    },
    {
     "data": {
      "image/png": "[encoded data removed]",
      "text/plain": [
       "<matplotlib.figure.Figure at 0x7f04249412e8>"
      ]
     },
     "metadata": {},
     "output_type": "display_data"
    }
   ],
   "source": [
    "# Box plots to visualize distributions\n",
    "\n",
    "sns.boxplot(x='CountryLive', y='edu_money_per_month', data=four_countries)\n",
    "plt.title('Money Spent Per Month Per Country\\n(Distributions)',\n",
    "         fontsize = 16)\n",
    "plt.ylabel('Money per month (US dollars)')\n",
    "plt.xlabel('Country')\n",
    "plt.xticks(range(4), ['US', 'UK', 'India', 'Canada']) # avoids tick labels overlap\n",
    "plt.show()\n"
   ]
  },
  {
   "cell_type": "markdown",
   "metadata": {},
   "source": [
    "In the chart there appears to be only a few instances of outliers within the countries. In the US there are a few extreme outliers; two instances of over 50000 per month spent which is most likely input error. In indian there are also one instance in which someone has put the amount spent above 10000$ which is considerably higher than the mean spent by students in India.\n",
    "\n",
    "To fix the outliers we will first cap the money spent per month at 20000$, then recalculate the means and rechart the distributions."
   ]
  },
  {
   "cell_type": "code",
   "execution_count": 15,
   "metadata": {
    "collapsed": false
   },
   "outputs": [
    {
     "data": {
      "text/plain": [
       "CountryLive\n",
       "United States of America    183.800110\n",
       "India                       135.100982\n",
       "United Kingdom               45.534443\n",
       "Canada                      113.510961\n",
       "Name: edu_money_per_month, dtype: float64"
      ]
     },
     "execution_count": 15,
     "metadata": {},
     "output_type": "execute_result"
    }
   ],
   "source": [
    "valid_party = valid_party[valid_party['edu_money_per_month']<20000]\n",
    "countries_mean = valid_party.groupby('CountryLive').mean()\n",
    "countries_mean['edu_money_per_month'][['United States of America',\n",
    "                            'India', 'United Kingdom',\n",
    "                            'Canada']]\n",
    "\n"
   ]
  },
  {
   "cell_type": "markdown",
   "metadata": {},
   "source": [
    "We can see that the average money spent has been reduced for the United States after we dropped the extreme outlier, giving us a more accurate account of how much a student spends in the US on average per month."
   ]
  },
  {
   "cell_type": "code",
   "execution_count": 16,
   "metadata": {
    "collapsed": false
   },
   "outputs": [
    {
     "name": "stderr",
     "output_type": "stream",
     "text": [
      "/dataquest/system/env/python3/lib/python3.4/site-packages/seaborn/categorical.py:454: FutureWarning:\n",
      "\n",
      "remove_na is deprecated and is a private function. Do not use.\n",
      "\n"
     ]
    },
    {
     "data": {
      "image/png": "[encoded data removed]",
      "text/plain": [
       "<matplotlib.figure.Figure at 0x7f04247d5240>"
      ]
     },
     "metadata": {},
     "output_type": "display_data"
    }
   ],
   "source": [
    "four_countries = valid_party[valid_party['CountryLive'].str.contains('United States of America|India|United Kingdom|Canada')]\n",
    "sns.boxplot(x='CountryLive', y='edu_money_per_month', data=four_countries)\n",
    "plt.title('Money Spent Per Month Per Country\\n(Distributions)',\n",
    "         fontsize = 16)\n",
    "plt.ylabel('Money per month (US dollars)')\n",
    "plt.xlabel('Country')\n",
    "plt.xticks(range(4), ['US', 'UK', 'India', 'Canada']) # avoids tick labels overlap\n",
    "plt.show()"
   ]
  },
  {
   "cell_type": "markdown",
   "metadata": {},
   "source": [
    "After removing the extreme outliers from the US, there still appears to be some outliers from the four respective countries. One possible reason for the extreme cost spent by the particpants could be if they have enrolled into several costly bootcamps in conjuction with a masters program. \n",
    "\n",
    "To explain why these participants spent so much money we will explore how many bootcamps these particular outliers have attended. And in the occasion that they did not attend any bootcamps we will remove these specific outliers from the sampled data."
   ]
  },
  {
   "cell_type": "code",
   "execution_count": 17,
   "metadata": {
    "collapsed": false
   },
   "outputs": [
    {
     "data": {
      "text/html": [
       "<div>\n",
       "<style scoped>\n",
       "    .dataframe tbody tr th:only-of-type {\n",
       "        vertical-align: middle;\n",
       "    }\n",
       "\n",
       "    .dataframe tbody tr th {\n",
       "        vertical-align: top;\n",
       "    }\n",
       "\n",
       "    .dataframe thead th {\n",
       "        text-align: right;\n",
       "    }\n",
       "</style>\n",
       "<table border=\"1\" class=\"dataframe\">\n",
       "  <thead>\n",
       "    <tr style=\"text-align: right;\">\n",
       "      <th></th>\n",
       "      <th>Age</th>\n",
       "      <th>AttendedBootcamp</th>\n",
       "      <th>BootcampFinish</th>\n",
       "      <th>BootcampLoanYesNo</th>\n",
       "      <th>BootcampName</th>\n",
       "      <th>BootcampRecommend</th>\n",
       "      <th>ChildrenNumber</th>\n",
       "      <th>CityPopulation</th>\n",
       "      <th>CodeEventConferences</th>\n",
       "      <th>CodeEventDjangoGirls</th>\n",
       "      <th>...</th>\n",
       "      <th>YouTubeFunFunFunction</th>\n",
       "      <th>YouTubeGoogleDev</th>\n",
       "      <th>YouTubeLearnCode</th>\n",
       "      <th>YouTubeLevelUpTuts</th>\n",
       "      <th>YouTubeMIT</th>\n",
       "      <th>YouTubeMozillaHacks</th>\n",
       "      <th>YouTubeOther</th>\n",
       "      <th>YouTubeSimplilearn</th>\n",
       "      <th>YouTubeTheNewBoston</th>\n",
       "      <th>edu_money_per_month</th>\n",
       "    </tr>\n",
       "  </thead>\n",
       "  <tbody>\n",
       "    <tr>\n",
       "      <th>718</th>\n",
       "      <td>26.0</td>\n",
       "      <td>1.0</td>\n",
       "      <td>0.0</td>\n",
       "      <td>0.0</td>\n",
       "      <td>The Coding Boot Camp at UCLA Extension</td>\n",
       "      <td>1.0</td>\n",
       "      <td>NaN</td>\n",
       "      <td>more than 1 million</td>\n",
       "      <td>1.0</td>\n",
       "      <td>NaN</td>\n",
       "      <td>...</td>\n",
       "      <td>NaN</td>\n",
       "      <td>NaN</td>\n",
       "      <td>NaN</td>\n",
       "      <td>NaN</td>\n",
       "      <td>NaN</td>\n",
       "      <td>NaN</td>\n",
       "      <td>NaN</td>\n",
       "      <td>NaN</td>\n",
       "      <td>NaN</td>\n",
       "      <td>8000.000000</td>\n",
       "    </tr>\n",
       "    <tr>\n",
       "      <th>1222</th>\n",
       "      <td>32.0</td>\n",
       "      <td>1.0</td>\n",
       "      <td>0.0</td>\n",
       "      <td>0.0</td>\n",
       "      <td>The Iron Yard</td>\n",
       "      <td>1.0</td>\n",
       "      <td>NaN</td>\n",
       "      <td>between 100,000 and 1 million</td>\n",
       "      <td>NaN</td>\n",
       "      <td>NaN</td>\n",
       "      <td>...</td>\n",
       "      <td>NaN</td>\n",
       "      <td>NaN</td>\n",
       "      <td>1.0</td>\n",
       "      <td>NaN</td>\n",
       "      <td>NaN</td>\n",
       "      <td>NaN</td>\n",
       "      <td>NaN</td>\n",
       "      <td>NaN</td>\n",
       "      <td>NaN</td>\n",
       "      <td>6500.000000</td>\n",
       "    </tr>\n",
       "    <tr>\n",
       "      <th>3184</th>\n",
       "      <td>34.0</td>\n",
       "      <td>1.0</td>\n",
       "      <td>1.0</td>\n",
       "      <td>0.0</td>\n",
       "      <td>We Can Code IT</td>\n",
       "      <td>1.0</td>\n",
       "      <td>NaN</td>\n",
       "      <td>more than 1 million</td>\n",
       "      <td>NaN</td>\n",
       "      <td>NaN</td>\n",
       "      <td>...</td>\n",
       "      <td>NaN</td>\n",
       "      <td>NaN</td>\n",
       "      <td>NaN</td>\n",
       "      <td>NaN</td>\n",
       "      <td>NaN</td>\n",
       "      <td>NaN</td>\n",
       "      <td>NaN</td>\n",
       "      <td>NaN</td>\n",
       "      <td>NaN</td>\n",
       "      <td>9000.000000</td>\n",
       "    </tr>\n",
       "    <tr>\n",
       "      <th>3930</th>\n",
       "      <td>31.0</td>\n",
       "      <td>0.0</td>\n",
       "      <td>NaN</td>\n",
       "      <td>NaN</td>\n",
       "      <td>NaN</td>\n",
       "      <td>NaN</td>\n",
       "      <td>NaN</td>\n",
       "      <td>between 100,000 and 1 million</td>\n",
       "      <td>NaN</td>\n",
       "      <td>NaN</td>\n",
       "      <td>...</td>\n",
       "      <td>1.0</td>\n",
       "      <td>1.0</td>\n",
       "      <td>1.0</td>\n",
       "      <td>1.0</td>\n",
       "      <td>1.0</td>\n",
       "      <td>NaN</td>\n",
       "      <td>various conf presentations</td>\n",
       "      <td>NaN</td>\n",
       "      <td>NaN</td>\n",
       "      <td>10833.333333</td>\n",
       "    </tr>\n",
       "    <tr>\n",
       "      <th>6805</th>\n",
       "      <td>46.0</td>\n",
       "      <td>1.0</td>\n",
       "      <td>1.0</td>\n",
       "      <td>1.0</td>\n",
       "      <td>Sabio.la</td>\n",
       "      <td>0.0</td>\n",
       "      <td>NaN</td>\n",
       "      <td>between 100,000 and 1 million</td>\n",
       "      <td>NaN</td>\n",
       "      <td>NaN</td>\n",
       "      <td>...</td>\n",
       "      <td>NaN</td>\n",
       "      <td>NaN</td>\n",
       "      <td>NaN</td>\n",
       "      <td>NaN</td>\n",
       "      <td>NaN</td>\n",
       "      <td>NaN</td>\n",
       "      <td>NaN</td>\n",
       "      <td>NaN</td>\n",
       "      <td>NaN</td>\n",
       "      <td>15000.000000</td>\n",
       "    </tr>\n",
       "    <tr>\n",
       "      <th>7198</th>\n",
       "      <td>32.0</td>\n",
       "      <td>0.0</td>\n",
       "      <td>NaN</td>\n",
       "      <td>NaN</td>\n",
       "      <td>NaN</td>\n",
       "      <td>NaN</td>\n",
       "      <td>NaN</td>\n",
       "      <td>more than 1 million</td>\n",
       "      <td>1.0</td>\n",
       "      <td>NaN</td>\n",
       "      <td>...</td>\n",
       "      <td>NaN</td>\n",
       "      <td>1.0</td>\n",
       "      <td>1.0</td>\n",
       "      <td>1.0</td>\n",
       "      <td>NaN</td>\n",
       "      <td>NaN</td>\n",
       "      <td>NaN</td>\n",
       "      <td>NaN</td>\n",
       "      <td>NaN</td>\n",
       "      <td>14000.000000</td>\n",
       "    </tr>\n",
       "    <tr>\n",
       "      <th>7505</th>\n",
       "      <td>26.0</td>\n",
       "      <td>1.0</td>\n",
       "      <td>0.0</td>\n",
       "      <td>1.0</td>\n",
       "      <td>Codeup</td>\n",
       "      <td>0.0</td>\n",
       "      <td>NaN</td>\n",
       "      <td>more than 1 million</td>\n",
       "      <td>NaN</td>\n",
       "      <td>NaN</td>\n",
       "      <td>...</td>\n",
       "      <td>NaN</td>\n",
       "      <td>NaN</td>\n",
       "      <td>NaN</td>\n",
       "      <td>NaN</td>\n",
       "      <td>1.0</td>\n",
       "      <td>NaN</td>\n",
       "      <td>NaN</td>\n",
       "      <td>NaN</td>\n",
       "      <td>NaN</td>\n",
       "      <td>6666.666667</td>\n",
       "    </tr>\n",
       "    <tr>\n",
       "      <th>9778</th>\n",
       "      <td>33.0</td>\n",
       "      <td>1.0</td>\n",
       "      <td>0.0</td>\n",
       "      <td>1.0</td>\n",
       "      <td>Grand Circus</td>\n",
       "      <td>1.0</td>\n",
       "      <td>NaN</td>\n",
       "      <td>between 100,000 and 1 million</td>\n",
       "      <td>NaN</td>\n",
       "      <td>NaN</td>\n",
       "      <td>...</td>\n",
       "      <td>NaN</td>\n",
       "      <td>NaN</td>\n",
       "      <td>NaN</td>\n",
       "      <td>NaN</td>\n",
       "      <td>NaN</td>\n",
       "      <td>NaN</td>\n",
       "      <td>NaN</td>\n",
       "      <td>NaN</td>\n",
       "      <td>NaN</td>\n",
       "      <td>8000.000000</td>\n",
       "    </tr>\n",
       "    <tr>\n",
       "      <th>16650</th>\n",
       "      <td>29.0</td>\n",
       "      <td>0.0</td>\n",
       "      <td>NaN</td>\n",
       "      <td>NaN</td>\n",
       "      <td>NaN</td>\n",
       "      <td>NaN</td>\n",
       "      <td>2.0</td>\n",
       "      <td>more than 1 million</td>\n",
       "      <td>NaN</td>\n",
       "      <td>NaN</td>\n",
       "      <td>...</td>\n",
       "      <td>NaN</td>\n",
       "      <td>NaN</td>\n",
       "      <td>NaN</td>\n",
       "      <td>NaN</td>\n",
       "      <td>NaN</td>\n",
       "      <td>NaN</td>\n",
       "      <td>NaN</td>\n",
       "      <td>NaN</td>\n",
       "      <td>1.0</td>\n",
       "      <td>16666.666667</td>\n",
       "    </tr>\n",
       "    <tr>\n",
       "      <th>16997</th>\n",
       "      <td>27.0</td>\n",
       "      <td>0.0</td>\n",
       "      <td>NaN</td>\n",
       "      <td>NaN</td>\n",
       "      <td>NaN</td>\n",
       "      <td>NaN</td>\n",
       "      <td>1.0</td>\n",
       "      <td>more than 1 million</td>\n",
       "      <td>NaN</td>\n",
       "      <td>NaN</td>\n",
       "      <td>...</td>\n",
       "      <td>NaN</td>\n",
       "      <td>NaN</td>\n",
       "      <td>NaN</td>\n",
       "      <td>NaN</td>\n",
       "      <td>NaN</td>\n",
       "      <td>NaN</td>\n",
       "      <td>NaN</td>\n",
       "      <td>NaN</td>\n",
       "      <td>NaN</td>\n",
       "      <td>12500.000000</td>\n",
       "    </tr>\n",
       "    <tr>\n",
       "      <th>17231</th>\n",
       "      <td>50.0</td>\n",
       "      <td>0.0</td>\n",
       "      <td>NaN</td>\n",
       "      <td>NaN</td>\n",
       "      <td>NaN</td>\n",
       "      <td>NaN</td>\n",
       "      <td>2.0</td>\n",
       "      <td>less than 100,000</td>\n",
       "      <td>NaN</td>\n",
       "      <td>NaN</td>\n",
       "      <td>...</td>\n",
       "      <td>NaN</td>\n",
       "      <td>NaN</td>\n",
       "      <td>NaN</td>\n",
       "      <td>NaN</td>\n",
       "      <td>NaN</td>\n",
       "      <td>NaN</td>\n",
       "      <td>NaN</td>\n",
       "      <td>NaN</td>\n",
       "      <td>NaN</td>\n",
       "      <td>15000.000000</td>\n",
       "    </tr>\n",
       "  </tbody>\n",
       "</table>\n",
       "<p>11 rows × 137 columns</p>\n",
       "</div>"
      ],
      "text/plain": [
       "        Age  AttendedBootcamp  BootcampFinish  BootcampLoanYesNo  \\\n",
       "718    26.0               1.0             0.0                0.0   \n",
       "1222   32.0               1.0             0.0                0.0   \n",
       "3184   34.0               1.0             1.0                0.0   \n",
       "3930   31.0               0.0             NaN                NaN   \n",
       "6805   46.0               1.0             1.0                1.0   \n",
       "7198   32.0               0.0             NaN                NaN   \n",
       "7505   26.0               1.0             0.0                1.0   \n",
       "9778   33.0               1.0             0.0                1.0   \n",
       "16650  29.0               0.0             NaN                NaN   \n",
       "16997  27.0               0.0             NaN                NaN   \n",
       "17231  50.0               0.0             NaN                NaN   \n",
       "\n",
       "                                 BootcampName  BootcampRecommend  \\\n",
       "718    The Coding Boot Camp at UCLA Extension                1.0   \n",
       "1222                            The Iron Yard                1.0   \n",
       "3184                           We Can Code IT                1.0   \n",
       "3930                                      NaN                NaN   \n",
       "6805                                 Sabio.la                0.0   \n",
       "7198                                      NaN                NaN   \n",
       "7505                                   Codeup                0.0   \n",
       "9778                             Grand Circus                1.0   \n",
       "16650                                     NaN                NaN   \n",
       "16997                                     NaN                NaN   \n",
       "17231                                     NaN                NaN   \n",
       "\n",
       "       ChildrenNumber                 CityPopulation  CodeEventConferences  \\\n",
       "718               NaN            more than 1 million                   1.0   \n",
       "1222              NaN  between 100,000 and 1 million                   NaN   \n",
       "3184              NaN            more than 1 million                   NaN   \n",
       "3930              NaN  between 100,000 and 1 million                   NaN   \n",
       "6805              NaN  between 100,000 and 1 million                   NaN   \n",
       "7198              NaN            more than 1 million                   1.0   \n",
       "7505              NaN            more than 1 million                   NaN   \n",
       "9778              NaN  between 100,000 and 1 million                   NaN   \n",
       "16650             2.0            more than 1 million                   NaN   \n",
       "16997             1.0            more than 1 million                   NaN   \n",
       "17231             2.0              less than 100,000                   NaN   \n",
       "\n",
       "       CodeEventDjangoGirls         ...           YouTubeFunFunFunction  \\\n",
       "718                     NaN         ...                             NaN   \n",
       "1222                    NaN         ...                             NaN   \n",
       "3184                    NaN         ...                             NaN   \n",
       "3930                    NaN         ...                             1.0   \n",
       "6805                    NaN         ...                             NaN   \n",
       "7198                    NaN         ...                             NaN   \n",
       "7505                    NaN         ...                             NaN   \n",
       "9778                    NaN         ...                             NaN   \n",
       "16650                   NaN         ...                             NaN   \n",
       "16997                   NaN         ...                             NaN   \n",
       "17231                   NaN         ...                             NaN   \n",
       "\n",
       "       YouTubeGoogleDev  YouTubeLearnCode  YouTubeLevelUpTuts  YouTubeMIT  \\\n",
       "718                 NaN               NaN                 NaN         NaN   \n",
       "1222                NaN               1.0                 NaN         NaN   \n",
       "3184                NaN               NaN                 NaN         NaN   \n",
       "3930                1.0               1.0                 1.0         1.0   \n",
       "6805                NaN               NaN                 NaN         NaN   \n",
       "7198                1.0               1.0                 1.0         NaN   \n",
       "7505                NaN               NaN                 NaN         1.0   \n",
       "9778                NaN               NaN                 NaN         NaN   \n",
       "16650               NaN               NaN                 NaN         NaN   \n",
       "16997               NaN               NaN                 NaN         NaN   \n",
       "17231               NaN               NaN                 NaN         NaN   \n",
       "\n",
       "       YouTubeMozillaHacks                YouTubeOther YouTubeSimplilearn  \\\n",
       "718                    NaN                         NaN                NaN   \n",
       "1222                   NaN                         NaN                NaN   \n",
       "3184                   NaN                         NaN                NaN   \n",
       "3930                   NaN  various conf presentations                NaN   \n",
       "6805                   NaN                         NaN                NaN   \n",
       "7198                   NaN                         NaN                NaN   \n",
       "7505                   NaN                         NaN                NaN   \n",
       "9778                   NaN                         NaN                NaN   \n",
       "16650                  NaN                         NaN                NaN   \n",
       "16997                  NaN                         NaN                NaN   \n",
       "17231                  NaN                         NaN                NaN   \n",
       "\n",
       "       YouTubeTheNewBoston  edu_money_per_month  \n",
       "718                    NaN          8000.000000  \n",
       "1222                   NaN          6500.000000  \n",
       "3184                   NaN          9000.000000  \n",
       "3930                   NaN         10833.333333  \n",
       "6805                   NaN         15000.000000  \n",
       "7198                   NaN         14000.000000  \n",
       "7505                   NaN          6666.666667  \n",
       "9778                   NaN          8000.000000  \n",
       "16650                  1.0         16666.666667  \n",
       "16997                  NaN         12500.000000  \n",
       "17231                  NaN         15000.000000  \n",
       "\n",
       "[11 rows x 137 columns]"
      ]
     },
     "execution_count": 17,
     "metadata": {},
     "output_type": "execute_result"
    }
   ],
   "source": [
    "us_outliers = four_countries[(four_countries['CountryLive']=='United States of America') & (four_countries['edu_money_per_month']>6000)]\n",
    "us_outliers"
   ]
  },
  {
   "cell_type": "code",
   "execution_count": 18,
   "metadata": {
    "collapsed": false
   },
   "outputs": [
    {
     "data": {
      "text/html": [
       "<div>\n",
       "<style scoped>\n",
       "    .dataframe tbody tr th:only-of-type {\n",
       "        vertical-align: middle;\n",
       "    }\n",
       "\n",
       "    .dataframe tbody tr th {\n",
       "        vertical-align: top;\n",
       "    }\n",
       "\n",
       "    .dataframe thead th {\n",
       "        text-align: right;\n",
       "    }\n",
       "</style>\n",
       "<table border=\"1\" class=\"dataframe\">\n",
       "  <thead>\n",
       "    <tr style=\"text-align: right;\">\n",
       "      <th></th>\n",
       "      <th>Age</th>\n",
       "      <th>AttendedBootcamp</th>\n",
       "      <th>BootcampFinish</th>\n",
       "      <th>BootcampLoanYesNo</th>\n",
       "      <th>BootcampName</th>\n",
       "      <th>BootcampRecommend</th>\n",
       "      <th>ChildrenNumber</th>\n",
       "      <th>CityPopulation</th>\n",
       "      <th>CodeEventConferences</th>\n",
       "      <th>CodeEventDjangoGirls</th>\n",
       "      <th>...</th>\n",
       "      <th>YouTubeFunFunFunction</th>\n",
       "      <th>YouTubeGoogleDev</th>\n",
       "      <th>YouTubeLearnCode</th>\n",
       "      <th>YouTubeLevelUpTuts</th>\n",
       "      <th>YouTubeMIT</th>\n",
       "      <th>YouTubeMozillaHacks</th>\n",
       "      <th>YouTubeOther</th>\n",
       "      <th>YouTubeSimplilearn</th>\n",
       "      <th>YouTubeTheNewBoston</th>\n",
       "      <th>edu_money_per_month</th>\n",
       "    </tr>\n",
       "  </thead>\n",
       "  <tbody>\n",
       "    <tr>\n",
       "      <th>1728</th>\n",
       "      <td>24.0</td>\n",
       "      <td>0.0</td>\n",
       "      <td>NaN</td>\n",
       "      <td>NaN</td>\n",
       "      <td>NaN</td>\n",
       "      <td>NaN</td>\n",
       "      <td>NaN</td>\n",
       "      <td>between 100,000 and 1 million</td>\n",
       "      <td>NaN</td>\n",
       "      <td>NaN</td>\n",
       "      <td>...</td>\n",
       "      <td>NaN</td>\n",
       "      <td>NaN</td>\n",
       "      <td>NaN</td>\n",
       "      <td>NaN</td>\n",
       "      <td>NaN</td>\n",
       "      <td>NaN</td>\n",
       "      <td>NaN</td>\n",
       "      <td>NaN</td>\n",
       "      <td>NaN</td>\n",
       "      <td>5000.000000</td>\n",
       "    </tr>\n",
       "    <tr>\n",
       "      <th>1755</th>\n",
       "      <td>20.0</td>\n",
       "      <td>0.0</td>\n",
       "      <td>NaN</td>\n",
       "      <td>NaN</td>\n",
       "      <td>NaN</td>\n",
       "      <td>NaN</td>\n",
       "      <td>NaN</td>\n",
       "      <td>more than 1 million</td>\n",
       "      <td>NaN</td>\n",
       "      <td>NaN</td>\n",
       "      <td>...</td>\n",
       "      <td>NaN</td>\n",
       "      <td>NaN</td>\n",
       "      <td>1.0</td>\n",
       "      <td>NaN</td>\n",
       "      <td>1.0</td>\n",
       "      <td>NaN</td>\n",
       "      <td>NaN</td>\n",
       "      <td>NaN</td>\n",
       "      <td>NaN</td>\n",
       "      <td>3333.333333</td>\n",
       "    </tr>\n",
       "    <tr>\n",
       "      <th>7989</th>\n",
       "      <td>28.0</td>\n",
       "      <td>0.0</td>\n",
       "      <td>NaN</td>\n",
       "      <td>NaN</td>\n",
       "      <td>NaN</td>\n",
       "      <td>NaN</td>\n",
       "      <td>NaN</td>\n",
       "      <td>between 100,000 and 1 million</td>\n",
       "      <td>1.0</td>\n",
       "      <td>NaN</td>\n",
       "      <td>...</td>\n",
       "      <td>NaN</td>\n",
       "      <td>NaN</td>\n",
       "      <td>NaN</td>\n",
       "      <td>NaN</td>\n",
       "      <td>NaN</td>\n",
       "      <td>NaN</td>\n",
       "      <td>NaN</td>\n",
       "      <td>NaN</td>\n",
       "      <td>NaN</td>\n",
       "      <td>5000.000000</td>\n",
       "    </tr>\n",
       "    <tr>\n",
       "      <th>8126</th>\n",
       "      <td>22.0</td>\n",
       "      <td>0.0</td>\n",
       "      <td>NaN</td>\n",
       "      <td>NaN</td>\n",
       "      <td>NaN</td>\n",
       "      <td>NaN</td>\n",
       "      <td>NaN</td>\n",
       "      <td>more than 1 million</td>\n",
       "      <td>NaN</td>\n",
       "      <td>NaN</td>\n",
       "      <td>...</td>\n",
       "      <td>NaN</td>\n",
       "      <td>1.0</td>\n",
       "      <td>NaN</td>\n",
       "      <td>NaN</td>\n",
       "      <td>1.0</td>\n",
       "      <td>NaN</td>\n",
       "      <td>NaN</td>\n",
       "      <td>NaN</td>\n",
       "      <td>1.0</td>\n",
       "      <td>5000.000000</td>\n",
       "    </tr>\n",
       "    <tr>\n",
       "      <th>13398</th>\n",
       "      <td>19.0</td>\n",
       "      <td>0.0</td>\n",
       "      <td>NaN</td>\n",
       "      <td>NaN</td>\n",
       "      <td>NaN</td>\n",
       "      <td>NaN</td>\n",
       "      <td>NaN</td>\n",
       "      <td>more than 1 million</td>\n",
       "      <td>NaN</td>\n",
       "      <td>NaN</td>\n",
       "      <td>...</td>\n",
       "      <td>NaN</td>\n",
       "      <td>NaN</td>\n",
       "      <td>NaN</td>\n",
       "      <td>NaN</td>\n",
       "      <td>NaN</td>\n",
       "      <td>NaN</td>\n",
       "      <td>NaN</td>\n",
       "      <td>NaN</td>\n",
       "      <td>NaN</td>\n",
       "      <td>10000.000000</td>\n",
       "    </tr>\n",
       "    <tr>\n",
       "      <th>15587</th>\n",
       "      <td>27.0</td>\n",
       "      <td>0.0</td>\n",
       "      <td>NaN</td>\n",
       "      <td>NaN</td>\n",
       "      <td>NaN</td>\n",
       "      <td>NaN</td>\n",
       "      <td>NaN</td>\n",
       "      <td>more than 1 million</td>\n",
       "      <td>NaN</td>\n",
       "      <td>NaN</td>\n",
       "      <td>...</td>\n",
       "      <td>NaN</td>\n",
       "      <td>1.0</td>\n",
       "      <td>1.0</td>\n",
       "      <td>NaN</td>\n",
       "      <td>1.0</td>\n",
       "      <td>NaN</td>\n",
       "      <td>NaN</td>\n",
       "      <td>NaN</td>\n",
       "      <td>NaN</td>\n",
       "      <td>4166.666667</td>\n",
       "    </tr>\n",
       "  </tbody>\n",
       "</table>\n",
       "<p>6 rows × 137 columns</p>\n",
       "</div>"
      ],
      "text/plain": [
       "        Age  AttendedBootcamp  BootcampFinish  BootcampLoanYesNo BootcampName  \\\n",
       "1728   24.0               0.0             NaN                NaN          NaN   \n",
       "1755   20.0               0.0             NaN                NaN          NaN   \n",
       "7989   28.0               0.0             NaN                NaN          NaN   \n",
       "8126   22.0               0.0             NaN                NaN          NaN   \n",
       "13398  19.0               0.0             NaN                NaN          NaN   \n",
       "15587  27.0               0.0             NaN                NaN          NaN   \n",
       "\n",
       "       BootcampRecommend  ChildrenNumber                 CityPopulation  \\\n",
       "1728                 NaN             NaN  between 100,000 and 1 million   \n",
       "1755                 NaN             NaN            more than 1 million   \n",
       "7989                 NaN             NaN  between 100,000 and 1 million   \n",
       "8126                 NaN             NaN            more than 1 million   \n",
       "13398                NaN             NaN            more than 1 million   \n",
       "15587                NaN             NaN            more than 1 million   \n",
       "\n",
       "       CodeEventConferences  CodeEventDjangoGirls         ...           \\\n",
       "1728                    NaN                   NaN         ...            \n",
       "1755                    NaN                   NaN         ...            \n",
       "7989                    1.0                   NaN         ...            \n",
       "8126                    NaN                   NaN         ...            \n",
       "13398                   NaN                   NaN         ...            \n",
       "15587                   NaN                   NaN         ...            \n",
       "\n",
       "       YouTubeFunFunFunction  YouTubeGoogleDev  YouTubeLearnCode  \\\n",
       "1728                     NaN               NaN               NaN   \n",
       "1755                     NaN               NaN               1.0   \n",
       "7989                     NaN               NaN               NaN   \n",
       "8126                     NaN               1.0               NaN   \n",
       "13398                    NaN               NaN               NaN   \n",
       "15587                    NaN               1.0               1.0   \n",
       "\n",
       "       YouTubeLevelUpTuts  YouTubeMIT  YouTubeMozillaHacks  YouTubeOther  \\\n",
       "1728                  NaN         NaN                  NaN           NaN   \n",
       "1755                  NaN         1.0                  NaN           NaN   \n",
       "7989                  NaN         NaN                  NaN           NaN   \n",
       "8126                  NaN         1.0                  NaN           NaN   \n",
       "13398                 NaN         NaN                  NaN           NaN   \n",
       "15587                 NaN         1.0                  NaN           NaN   \n",
       "\n",
       "      YouTubeSimplilearn  YouTubeTheNewBoston  edu_money_per_month  \n",
       "1728                 NaN                  NaN          5000.000000  \n",
       "1755                 NaN                  NaN          3333.333333  \n",
       "7989                 NaN                  NaN          5000.000000  \n",
       "8126                 NaN                  1.0          5000.000000  \n",
       "13398                NaN                  NaN         10000.000000  \n",
       "15587                NaN                  NaN          4166.666667  \n",
       "\n",
       "[6 rows x 137 columns]"
      ]
     },
     "execution_count": 18,
     "metadata": {},
     "output_type": "execute_result"
    }
   ],
   "source": [
    "india_outliers = four_countries[(four_countries['CountryLive']=='India')&(four_countries['edu_money_per_month']>2500)]\n",
    "india_outliers"
   ]
  },
  {
   "cell_type": "markdown",
   "metadata": {},
   "source": [
    "Of the 17 outliers in the US and India; 5 from the US and 6 from India reported not attending any bootcamps and while it is possible that they may be enrolled into an expensive graduate program to minimize error we will remove these participants from the sample dataset. "
   ]
  },
  {
   "cell_type": "code",
   "execution_count": 19,
   "metadata": {
    "collapsed": false
   },
   "outputs": [],
   "source": [
    "# Remove the respondents who didn't attendent a bootcamp\n",
    "no_bootcamp_US = four_countries[\n",
    "    (four_countries['CountryLive'] == 'United States of America') & \n",
    "    (four_countries['edu_money_per_month'] >= 6000) &\n",
    "    (four_countries['AttendedBootcamp'] == 0)\n",
    "]\n",
    "four_countries = four_countries.drop(no_bootcamp_US.index)\n",
    "\n",
    "no_bootcamp_India = four_countries[(four_countries['CountryLive']=='India') & \n",
    "                                   (four_countries['edu_money_per_month']>2500) & \n",
    "                                   (four_countries['AttendedBootcamp']==0)]\n",
    "\n",
    "four_countries = four_countries.drop(no_bootcamp_India.index)"
   ]
  },
  {
   "cell_type": "markdown",
   "metadata": {},
   "source": [
    "Lets recalculate the mean and chart the final box plot"
   ]
  },
  {
   "cell_type": "code",
   "execution_count": 20,
   "metadata": {
    "collapsed": false
   },
   "outputs": [
    {
     "data": {
      "text/plain": [
       "CountryLive\n",
       "Canada                      113.510961\n",
       "India                        65.758763\n",
       "United Kingdom               45.534443\n",
       "United States of America    160.532509\n",
       "Name: edu_money_per_month, dtype: float64"
      ]
     },
     "execution_count": 20,
     "metadata": {},
     "output_type": "execute_result"
    }
   ],
   "source": [
    "four_countries.groupby('CountryLive').mean()['edu_money_per_month']"
   ]
  },
  {
   "cell_type": "code",
   "execution_count": 21,
   "metadata": {
    "collapsed": false
   },
   "outputs": [
    {
     "name": "stderr",
     "output_type": "stream",
     "text": [
      "/dataquest/system/env/python3/lib/python3.4/site-packages/seaborn/categorical.py:454: FutureWarning:\n",
      "\n",
      "remove_na is deprecated and is a private function. Do not use.\n",
      "\n"
     ]
    },
    {
     "data": {
      "image/png": "[encoded data removed]",
      "text/plain": [
       "<matplotlib.figure.Figure at 0x7f04249419e8>"
      ]
     },
     "metadata": {},
     "output_type": "display_data"
    }
   ],
   "source": [
    "sns.boxplot(x='CountryLive', y='edu_money_per_month', data=four_countries)\n",
    "plt.title('Money Spent Per Month Per Country\\n(Distributions)',\n",
    "         fontsize = 16)\n",
    "plt.ylabel('Money per month (US dollars)')\n",
    "plt.xlabel('Country')\n",
    "plt.xticks(range(4), ['US', 'UK', 'India', 'Canada']) # avoids tick labels overlap\n",
    "plt.show()"
   ]
  },
  {
   "cell_type": "code",
   "execution_count": 22,
   "metadata": {
    "collapsed": false
   },
   "outputs": [
    {
     "data": {
      "text/plain": [
       "United States of America    74.987186\n",
       "India                       11.711943\n",
       "United Kingdom               7.150179\n",
       "Canada                       6.150692\n",
       "Name: CountryLive, dtype: float64"
      ]
     },
     "execution_count": 22,
     "metadata": {},
     "output_type": "execute_result"
    }
   ],
   "source": [
    "#number of participants in each of the top 4 countries\n",
    "four_countries['CountryLive'].value_counts(normalize=True)*100"
   ]
  },
  {
   "cell_type": "markdown",
   "metadata": {
    "collapsed": true
   },
   "source": [
    "# Choosing the Best Countries to Advertise In\n"
   ]
  },
  {
   "cell_type": "markdown",
   "metadata": {},
   "source": [
    " From the data we've collected it is apparent that the United States should be the primary target as a market to advertise in because of both the amount of participants who are interested in learning about coding as well as the highest average spent by the individuals towards their education($160.53 per month). Based on average education monthly spending alone the next obvious choice to target would be Canada given that they boast the next highest monthly average expenditure on education at $113.51 per month. But on the other hand if you consider that only 6% of all valid participants in the survey is from Canada, it would be wise to consider India which has double the amount of participants as the second best country to invest advertisment funds into. Of the four countries the United Kingdom would be the worse of the choices to invest in given it's low monthly expenditure on education as well as it's lo participation count. At this point, it seems that we have several options:\n",
    "\n",
    "Advertise in the US, India, and Canada by splitting the advertisement budget in various combinations:\n",
    "\n",
    "60% for the US, 25% for India, 15% for Canada.\n",
    "50% for the US, 30% for India, 20% for Canada; etc.\n",
    "Advertise only in the US and India, or the US and Canada. Again, it makes sense to split the advertisement budget unequally. For instance:\n",
    "\n",
    "70% for the US, and 30% for India.\n",
    "65% for the US, and 35% for Canada; etc.\n",
    "\n",
    "Advertise only in the US.\n",
    "\n",
    "At this point, it's probably best to send our analysis to the marketing team and let them use their domain knowledge to decide. They might want to do some extra surveys in India and Canada and then get back to us for analyzing the new survey data.\n",
    "\n",
    "\n",
    "\n",
    "\n",
    "\n",
    "\n",
    "\n",
    "\n",
    "\n",
    "\n"
   ]
  },
  {
   "cell_type": "markdown",
   "metadata": {},
   "source": [
    "# Conclusion\n"
   ]
  },
  {
   "cell_type": "markdown",
   "metadata": {},
   "source": [
    "In this project, we analyzed survey data from new coders to find the best two markets to advertise in. We have conclusively decided that the best market to advertise in would be the United States of America.\n",
    "\n",
    "For the second best market, with out further exploration of the dataset the decision to decide between India and Canada is not conclusive. Therefore it seems best to send the results to the marketing team so they can utilize their domain knowledge to take the best decision."
   ]
  },
  {
   "cell_type": "code",
   "execution_count": null,
   "metadata": {
    "collapsed": true
   },
   "outputs": [],
   "source": []
  }
 ],
 "metadata": {
  "kernelspec": {
   "display_name": "Python 3",
   "language": "python",
   "name": "python3"
  },
  "language_info": {
   "codemirror_mode": {
    "name": "ipython",
    "version": 3
   },
   "file_extension": ".py",
   "mimetype": "text/x-python",
   "name": "python",
   "nbconvert_exporter": "python",
   "pygments_lexer": "ipython3",
   "version": "3.4.3"
  }
 },
 "nbformat": 4,
 "nbformat_minor": 2
}
